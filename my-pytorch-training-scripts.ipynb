{
 "cells": [
  {
   "cell_type": "code",
   "execution_count": 12,
   "id": "parallel-complex",
   "metadata": {},
   "outputs": [],
   "source": [
    "import mymodel as mm"
   ]
  },
  {
   "cell_type": "markdown",
   "id": "altered-concept",
   "metadata": {},
   "source": [
    "# Training script (2019 0225 version)"
   ]
  },
  {
   "cell_type": "markdown",
   "id": "technical-commercial",
   "metadata": {},
   "source": [
    "## Data import to PyTorch"
   ]
  },
  {
   "cell_type": "code",
   "execution_count": 368,
   "id": "worth-charm",
   "metadata": {},
   "outputs": [
    {
     "name": "stdout",
     "output_type": "stream",
     "text": [
      "(ch, dim1, dim2, ...): torch.Size([1, 24, 35])  If images are gray scale? ch should be 1.\n"
     ]
    }
   ],
   "source": [
    "# validation set split (n datapoint)\n",
    "k = 2000 \n",
    "\n",
    "# Data import to pytorch\n",
    "y = torch.from_numpy(truncated_labels).float()\n",
    "x = torch.from_numpy(rolled_stim).float()\n",
    "#\n",
    "assert len(y) == len(x), \"Data number mismatch.\"\n",
    "#\n",
    "# Add channel dimension for image (x) for convolution operation\n",
    "x = x.unsqueeze(1)\n",
    "#\n",
    "n_cell = y.size(1)\n",
    "D_stim = x.shape[1:]\n",
    "print('(ch, dim1, dim2, ...):', D_stim, ' If images are gray scale? ch should be 1.')\n",
    "\n",
    "# Split data\n",
    "x = {'train': x[:-k],\n",
    "       'val': x[-k:]}\n",
    "y = {'train': y[:-k],\n",
    "       'val': y[-k:]}\n",
    "#\n",
    "dataloaders = {d: DataLoader(TensorDataset(x[d],y[d]), batch_size=32, shuffle=True)\n",
    "              for d in ['train', 'val']}\n",
    "dataset_sizes = {d: len(x[d]) for d in ['train', 'val']}"
   ]
  },
  {
   "cell_type": "code",
   "execution_count": 369,
   "id": "effective-links",
   "metadata": {},
   "outputs": [],
   "source": [
    "# device\n",
    "device = torch.device(\"cuda:0\" if torch.cuda.is_available() else \"cpu\")\n",
    "#device = torch.device(\"cpu\")"
   ]
  },
  {
   "cell_type": "code",
   "execution_count": 459,
   "id": "previous-klein",
   "metadata": {},
   "outputs": [],
   "source": [
    "import retio as io # custom model save script..\n",
    "# Global parameters:\n",
    "    # device\n",
    "    # dataloaders['train','val']\n",
    "\n",
    "# 2019 0225 new train function\n",
    "def train_model(model, criterion, optimizer, scheduler, num_epochs=25, coeff_L1=1e-4, model_name='test-model', save='./checkpoints'):\n",
    "    since = time.time()\n",
    "    \n",
    "    #best_model_wts = copy.deepcopy(model.state_dict())\n",
    "    best_model_wts = {key: copy.deepcopy(model.state_dict()) for key in [\"train\",\"val\"]}\n",
    "    min_loss = {key: 1e10 for key in [\"train\",\"val\"]}\n",
    "    min_dist = {key: 1e10 for key in [\"train\",\"val\"]}\n",
    "    #best_acc = 0.0     # validation set evaluation\n",
    "    \n",
    "    epoch_loss_log = {key: [] for key in [\"train\",\"val\"]}\n",
    "    epoch_dist_log = {key: [] for key in [\"train\",\"val\"]}\n",
    "    \n",
    "    if not os.path.exists(save):\n",
    "        os.mkdir(save)\n",
    "    \n",
    "    fig, ax = plt.subplots(1, 3, figsize=(11, 3))\n",
    "    \n",
    "    for epoch in range(num_epochs):\n",
    "        #print('Epoch {}/{}'.format(epoch, num_epochs - 1))\n",
    "        #print('-' * 10)\n",
    "    \n",
    "        # Each epoch round has a training and validation phase\n",
    "        for phase in ['train', 'val']:\n",
    "            if phase == 'train':\n",
    "                scheduler.step()\n",
    "                model.train()  # Set model to training mode. .train() in my model??\n",
    "            else:\n",
    "                model.eval()   # Set model to evaluate mode. .eval() in my model?? \n",
    "            \n",
    "            # Epoch loss and corrects initialization.\n",
    "            running_loss = 0.0\n",
    "            running_dist = 0.0\n",
    "\n",
    "            # Iterate over data.\n",
    "            for inputs, labels in dataloaders[phase]:\n",
    "                \n",
    "                inputs = inputs.to(device)\n",
    "                labels = labels.to(device)\n",
    "\n",
    "                # zero the parameter gradients\n",
    "                optimizer.zero_grad()\n",
    "\n",
    "                # forward\n",
    "                # track history if only in train\n",
    "                with torch.set_grad_enabled(phase == 'train'): # Make sure to clear the intermediate values for evaluation.\n",
    "                    outputs = model(inputs)\n",
    "                    #_, preds = torch.max(outputs, 1)  # 2nd output? index for max value.\n",
    "                    \n",
    "                    dist = criterion(outputs, labels)\n",
    "                    loss = dist + coeff_L1 * (model.reg_conv1_L1() + model.reg_conv2_L1())\n",
    " \n",
    "                    # backward + optimize only if in training phase\n",
    "                    if phase == 'train':\n",
    "                        loss.backward()\n",
    "                        optimizer.step()\n",
    "\n",
    "                # statistics\n",
    "                running_loss += loss.item() * inputs.size(0) # .item() converts tensor to python scalar. \n",
    "                running_dist += dist.item() * inputs.size(0) \n",
    "                # running_corrects += torch.sum(preds == labels.data) # number of corrects for classification\n",
    "                        \n",
    "            epoch_loss = running_loss / dataset_sizes[phase]\n",
    "            epoch_dist = running_dist / dataset_sizes[phase]\n",
    "            #epoch_acc = running_corrects.double() / dataset_sizes[phase]\n",
    "            epoch_loss_log[phase].append(epoch_loss)\n",
    "            epoch_dist_log[phase].append(epoch_dist)\n",
    "\n",
    "            #print('{} Loss: {:.4f} Criterion dist: {:.4f}'.format(\n",
    "            #    phase, epoch_loss, epoch_dist))\n",
    "            \n",
    "            # deep copy the model\n",
    "            # to training set, to validation set\n",
    "            if epoch_dist < min_dist[phase]:\n",
    "                min_dist[phase] = epoch_dist\n",
    "                best_model_wts[phase] = copy.deepcopy(model.state_dict())\n",
    "                # custom model save script..\n",
    "                io.save_checkpoint(model, epoch, loss, optimizer, save, model.name+'-'+phase)\n",
    "\n",
    "        # blank line between epoch result\n",
    "        print('Epoch {}/{}, Train Loss: {:.4f} Val criterion: {:.4f}'.format(\n",
    "                epoch, num_epochs-1, epoch_loss_log['train'][-1], epoch_dist_log['val'][-1]))\n",
    "        #print('{} Loss: {:.4f} Criterion dist: {:.4f}'.format(\n",
    "        #        phase, epoch_loss, epoch_dist))\n",
    "        #print()\n",
    "        \n",
    "    time_elapsed = time.time() - since\n",
    "    print('Training complete in {:.0f}m {:.0f}s'.format(\n",
    "        time_elapsed // 60, time_elapsed % 60))\n",
    "    print('Best val min dist: {:4f}'.format(min_dist['val']))\n",
    "    ax[0].plot(epoch_loss_log['train'])\n",
    "    ax[1].plot(epoch_dist_log['train'])\n",
    "    ax[2].plot(epoch_dist_log['val'])\n",
    "    plt.show()\n",
    "\n",
    "    # Load best model weights\n",
    "    model.load_state_dict(best_model_wts['train'])\n",
    "    return model, best_model_wts"
   ]
  },
  {
   "cell_type": "code",
   "execution_count": 462,
   "id": "reasonable-violation",
   "metadata": {
    "collapsed": true,
    "jupyter": {
     "outputs_hidden": true
    }
   },
   "outputs": [
    {
     "name": "stdout",
     "output_type": "stream",
     "text": [
      "D_stim : torch.Size([1, 24, 35])\n",
      "n_cell : 5\n",
      "Saved!\n",
      "Saved!\n",
      "Epoch 0/49, Train Loss: 1.0012 Val criterion: 1.0664\n",
      "Saved!\n",
      "Epoch 1/49, Train Loss: 0.9949 Val criterion: 1.0847\n",
      "Saved!\n",
      "Epoch 2/49, Train Loss: 0.9891 Val criterion: 1.0730\n",
      "Saved!\n",
      "Saved!\n",
      "Epoch 3/49, Train Loss: 0.9847 Val criterion: 1.0564\n",
      "Saved!\n",
      "Saved!\n",
      "Epoch 4/49, Train Loss: 0.9773 Val criterion: 1.0540\n",
      "Saved!\n",
      "Epoch 5/49, Train Loss: 0.9761 Val criterion: 1.0564\n",
      "Saved!\n",
      "Epoch 6/49, Train Loss: 0.9757 Val criterion: 1.0555\n",
      "Saved!\n",
      "Epoch 7/49, Train Loss: 0.9748 Val criterion: 1.0556\n",
      "Saved!\n",
      "Epoch 8/49, Train Loss: 0.9721 Val criterion: 1.0558\n",
      "Saved!\n",
      "Epoch 9/49, Train Loss: 0.9713 Val criterion: 1.0625\n",
      "Saved!\n",
      "Epoch 10/49, Train Loss: 0.9710 Val criterion: 1.0615\n",
      "Saved!\n",
      "Epoch 11/49, Train Loss: 0.9703 Val criterion: 1.0602\n",
      "Saved!\n",
      "Epoch 12/49, Train Loss: 0.9690 Val criterion: 1.0591\n",
      "Saved!\n",
      "Epoch 13/49, Train Loss: 0.9688 Val criterion: 1.0618\n",
      "Saved!\n",
      "Epoch 14/49, Train Loss: 0.9686 Val criterion: 1.0587\n",
      "Saved!\n",
      "Epoch 15/49, Train Loss: 0.9685 Val criterion: 1.0568\n",
      "Saved!\n",
      "Epoch 16/49, Train Loss: 0.9677 Val criterion: 1.0604\n",
      "Saved!\n",
      "Epoch 17/49, Train Loss: 0.9676 Val criterion: 1.0600\n",
      "Saved!\n",
      "Epoch 18/49, Train Loss: 0.9675 Val criterion: 1.0581\n",
      "Epoch 19/49, Train Loss: 0.9677 Val criterion: 1.0585\n",
      "Saved!\n",
      "Epoch 20/49, Train Loss: 0.9670 Val criterion: 1.0586\n",
      "Saved!\n",
      "Epoch 21/49, Train Loss: 0.9669 Val criterion: 1.0595\n",
      "Epoch 22/49, Train Loss: 0.9670 Val criterion: 1.0584\n",
      "Saved!\n",
      "Epoch 23/49, Train Loss: 0.9669 Val criterion: 1.0599\n",
      "Saved!\n",
      "Epoch 24/49, Train Loss: 0.9668 Val criterion: 1.0594\n",
      "Saved!\n",
      "Epoch 25/49, Train Loss: 0.9667 Val criterion: 1.0593\n",
      "Saved!\n",
      "Epoch 26/49, Train Loss: 0.9667 Val criterion: 1.0591\n",
      "Epoch 27/49, Train Loss: 0.9668 Val criterion: 1.0591\n",
      "Saved!\n",
      "Epoch 28/49, Train Loss: 0.9666 Val criterion: 1.0584\n",
      "Saved!\n",
      "Epoch 29/49, Train Loss: 0.9665 Val criterion: 1.0589\n",
      "Epoch 30/49, Train Loss: 0.9666 Val criterion: 1.0594\n",
      "Saved!\n",
      "Epoch 31/49, Train Loss: 0.9665 Val criterion: 1.0588\n",
      "Saved!\n",
      "Epoch 32/49, Train Loss: 0.9665 Val criterion: 1.0586\n",
      "Saved!\n",
      "Epoch 33/49, Train Loss: 0.9665 Val criterion: 1.0588\n",
      "Saved!\n",
      "Epoch 34/49, Train Loss: 0.9665 Val criterion: 1.0588\n",
      "Epoch 35/49, Train Loss: 0.9665 Val criterion: 1.0590\n",
      "Saved!\n",
      "Epoch 36/49, Train Loss: 0.9664 Val criterion: 1.0590\n",
      "Saved!\n",
      "Epoch 37/49, Train Loss: 0.9664 Val criterion: 1.0590\n",
      "Epoch 38/49, Train Loss: 0.9664 Val criterion: 1.0589\n",
      "Epoch 39/49, Train Loss: 0.9664 Val criterion: 1.0589\n",
      "Saved!\n",
      "Epoch 40/49, Train Loss: 0.9664 Val criterion: 1.0589\n",
      "Saved!\n",
      "Epoch 41/49, Train Loss: 0.9664 Val criterion: 1.0589\n",
      "Saved!\n",
      "Epoch 42/49, Train Loss: 0.9664 Val criterion: 1.0589\n",
      "Epoch 43/49, Train Loss: 0.9664 Val criterion: 1.0589\n",
      "Saved!\n",
      "Epoch 44/49, Train Loss: 0.9664 Val criterion: 1.0589\n",
      "Epoch 45/49, Train Loss: 0.9664 Val criterion: 1.0589\n",
      "Saved!\n",
      "Epoch 46/49, Train Loss: 0.9664 Val criterion: 1.0589\n",
      "Epoch 47/49, Train Loss: 0.9664 Val criterion: 1.0589\n",
      "Saved!\n",
      "Epoch 48/49, Train Loss: 0.9664 Val criterion: 1.0589\n",
      "Epoch 49/49, Train Loss: 0.9664 Val criterion: 1.0589\n",
      "Training complete in 0m 49s\n",
      "Best val min dist: 1.054031\n"
     ]
    },
    {
     "data": {
      "image/png": "[encoded data removed]",
      "text/plain": [
       "<Figure size 1100x300 with 3 Axes>"
      ]
     },
     "metadata": {},
     "output_type": "display_data"
    },
    {
     "data": {
      "text/plain": [
       "<Figure size 400x100 with 0 Axes>"
      ]
     },
     "metadata": {},
     "output_type": "display_data"
    },
    {
     "data": {
      "image/png": "[encoded data removed]",
      "text/plain": [
       "<Figure size 300x100 with 2 Axes>"
      ]
     },
     "metadata": {},
     "output_type": "display_data"
    },
    {
     "data": {
      "text/plain": [
       "<Figure size 400x1000 with 0 Axes>"
      ]
     },
     "metadata": {},
     "output_type": "display_data"
    },
    {
     "data": {
      "image/png": "[encoded data removed]",
      "text/plain": [
       "<Figure size 300x750 with 10 Axes>"
      ]
     },
     "metadata": {},
     "output_type": "display_data"
    }
   ],
   "source": [
    "from torch.optim import lr_scheduler\n",
    "# Model Training\n",
    "importlib.reload(mm)\n",
    "importlib.reload(my)\n",
    "#checkpoint_dir = '/home/juyoung/Modules/1d-whitenoise-models/model-checkpoints/'\n",
    "\n",
    "### All hyperparameters? -----> Dictionary? and deepcopy for save?\n",
    "# 1st layer hidden unit filter size\n",
    "num_types = 1\n",
    "temporal = 15\n",
    "spacial = 7\n",
    "space_stride_ = 2\n",
    "#\n",
    "learning_rate = 1e-3\n",
    "coeff_L1_loss = 1e-4   # encourages to be sparse.\n",
    "coeff_L2_loss = 1e-2\n",
    "#\n",
    "D_stim = x['train'].shape[1:]\n",
    "n_cell = y['train'].size(1)\n",
    "print('D_stim :', D_stim)\n",
    "print('n_cell :', n_cell)\n",
    "#\n",
    "\n",
    "#model = mm.LN_TemConv(D_stim, 1, n_cell, temp_filter_size = np.int(0.2 / ifi_upsampled)) # Just tem conv after spatiotemporal pooling/nonlinearity.\n",
    "model = mm.CNN_2layer(D_stim, num_types, n_cell, temp_filter_size=temporal, space_filter_size=spacial, space_stride=space_stride_)\n",
    "#model = mm.SimpleModel(D_stim, n_cell)\n",
    "model = model.to(device)\n",
    "criterion = nn.MSELoss()\n",
    "\n",
    "# Data wrapper & optimizer\n",
    "optimizer = torch.optim.Adam(model.parameters(), lr=learning_rate, weight_decay = coeff_L2_loss)\n",
    "# Decay LR by a factor of 0.1 every 7 epochs\n",
    "exp_lr_scheduler = lr_scheduler.StepLR(optimizer, step_size=4, gamma=0.5)\n",
    "#optimizer = torch.optim.RMSprop(model.parameters(), lr=learning_rate, weight_decay = coeff_L2_loss)\n",
    "\n",
    "# Model Training\n",
    "best_model, best_model_wts = train_model(model, criterion, optimizer, exp_lr_scheduler, num_epochs=50, coeff_L1=coeff_L1_loss)\n",
    "#model_result, loss_log = train_model_mse_loss(model, loader, optimizer, num_epoch=200, coeff_L1=coeff_L1_loss)\n",
    "\n",
    "best_model.visualize()"
   ]
  },
  {
   "cell_type": "markdown",
   "id": "affected-poison",
   "metadata": {},
   "source": [
    "# h5 data loading script"
   ]
  },
  {
   "cell_type": "code",
   "execution_count": 7,
   "id": "optional-evolution",
   "metadata": {},
   "outputs": [],
   "source": [
    "data_dir = '/Users/peterfish/Modules/'\n",
    "data_dir = '/home/juyoung/Modules/'\n",
    "#\n",
    "filename = 'data_filtered_5cells.h5'\n",
    "filename = 'data_whitenoise_6cells.h5'\n",
    "filename = 'data_filtered_0205.h5'\n",
    "filename = 'data_smoothed_5.h5'\n",
    "#filename = 'data_filtered_0406.h5'"
   ]
  },
  {
   "cell_type": "code",
   "execution_count": 8,
   "id": "convertible-linux",
   "metadata": {},
   "outputs": [
    {
     "name": "stdout",
     "output_type": "stream",
     "text": [
      "['exp1']\n",
      "Keys  -  ['fliptimes', 'rdata', 'rdata_fliptimes', 'roi_ids', 'rtime', 'stim_res', 'stim_rtime']\n",
      "Attrs -  ['Name', 'roi', 'ifi', 'Smooth_size']\n",
      "b'loc2_whitenoise_1_1 [ch1]'\n",
      "[0.034403]\n"
     ]
    }
   ],
   "source": [
    "# What keys in the h5?\n",
    "with h5py.File(data_dir+filename, 'r') as f:\n",
    "    print(list(f.keys()))\n",
    "    dset = f['exp1']\n",
    "    print('Keys  - ', list(dset.keys()))\n",
    "    print('Attrs - ', list(dset.attrs.keys()))\n",
    "    print(dset.attrs['Name'])\n",
    "    #\n",
    "    rdata = np.array(dset['rdata'])\n",
    "    rdata_upsampled = np.array(dset['rdata_fliptimes'])\n",
    "    rtime = np.array(dset['rtime'])\n",
    "    stim_upsampled = np.array(dset['stim_res'], dtype='f')\n",
    "    stim_resampled = np.array(dset['stim_rtime'], dtype='f')\n",
    "    fliptimes = np.array(dset['fliptimes'])\n",
    "    ifi = np.array(dset.attrs['ifi'])\n",
    "    print(ifi)"
   ]
  },
  {
   "cell_type": "markdown",
   "id": "general-rugby",
   "metadata": {},
   "source": [
    "# Old training script"
   ]
  },
  {
   "cell_type": "code",
   "execution_count": 78,
   "id": "possible-sleeve",
   "metadata": {
    "collapsed": true,
    "jupyter": {
     "outputs_hidden": true
    }
   },
   "outputs": [
    {
     "name": "stdout",
     "output_type": "stream",
     "text": [
      "D_stim : torch.Size([1, 64, 240])\n",
      "n_cell : 8\n"
     ]
    },
    {
     "ename": "KeyboardInterrupt",
     "evalue": "",
     "output_type": "error",
     "traceback": [
      "\u001b[0;31m---------------------------------------------------------------------------\u001b[0m",
      "\u001b[0;31mKeyboardInterrupt\u001b[0m                         Traceback (most recent call last)",
      "\u001b[0;32m<ipython-input-78-d39dc3ebe997>\u001b[0m in \u001b[0;36m<module>\u001b[0;34m\u001b[0m\n\u001b[1;32m     33\u001b[0m         \u001b[0mL1_loss\u001b[0m \u001b[0;34m=\u001b[0m \u001b[0;36m0\u001b[0m\u001b[0;34m\u001b[0m\u001b[0m\n\u001b[1;32m     34\u001b[0m         \u001b[0;32mfor\u001b[0m \u001b[0mparam\u001b[0m \u001b[0;32min\u001b[0m \u001b[0mmodel\u001b[0m\u001b[0;34m.\u001b[0m\u001b[0mparameters\u001b[0m\u001b[0;34m(\u001b[0m\u001b[0;34m)\u001b[0m\u001b[0;34m:\u001b[0m\u001b[0;34m\u001b[0m\u001b[0m\n\u001b[0;32m---> 35\u001b[0;31m             \u001b[0mL1_loss\u001b[0m \u001b[0;34m+=\u001b[0m \u001b[0mparam\u001b[0m\u001b[0;34m.\u001b[0m\u001b[0mabs\u001b[0m\u001b[0;34m(\u001b[0m\u001b[0;34m)\u001b[0m\u001b[0;34m.\u001b[0m\u001b[0msum\u001b[0m\u001b[0;34m(\u001b[0m\u001b[0;34m)\u001b[0m\u001b[0;34m\u001b[0m\u001b[0m\n\u001b[0m\u001b[1;32m     36\u001b[0m             \u001b[0;31m#L1_loss += model.conv2.weight.abs().sum()\u001b[0m\u001b[0;34m\u001b[0m\u001b[0;34m\u001b[0m\u001b[0m\n\u001b[1;32m     37\u001b[0m \u001b[0;34m\u001b[0m\u001b[0m\n",
      "\u001b[0;31mKeyboardInterrupt\u001b[0m: "
     ]
    }
   ],
   "source": [
    "#\n",
    "for epoch in range(num_epoch):\n",
    "    for x_batch, y_batch in loader:\n",
    "        \n",
    "        y_pred = model(x_batch)\n",
    "        \n",
    "        # Additional regularization\n",
    "        L1_loss = 0\n",
    "        for param in model.parameters():\n",
    "            L1_loss += param.abs().sum()\n",
    "            #L1_loss += model.conv2.weight.abs().sum()\n",
    "        \n",
    "        loss = nn.functional.mse_loss(y_pred, y_batch) + coeff_L1 * L1_loss\n",
    "            # Don't need to track intermedicate values.\n",
    "            # loss = (y_pred - y).pow(2).sum()\n",
    "        loss.backward() # compute gradient of loss with respect to all model parameters.\n",
    "        optimizer.step()      # update params. optimizer knows learning_rate\n",
    "        optimizer.zero_grad() # zero gradient\n",
    "\n",
    "    if epoch == 1:\n",
    "        loss_min = loss\n",
    "        \n",
    "    # save model\n",
    "    if loss <= loss_min:\n",
    "        #torch.save(model.state_dict(), filename+'-epoch-%d'%epoch)\n",
    "        torch.save(model.state_dict(), filename+'-loss-min')\n",
    "    \n",
    "    #print(f'Epoch {epoch} Loss {loss.data}')\n",
    "    loss_log[epoch] = loss.data\n",
    "    if epoch % 5 == 0:\n",
    "        print('Epoch %d  Loss %.4f' % (epoch, loss_log[epoch]))\n",
    "        ax = plt.subplot(111)\n",
    "        ax.plot(loss_log)\n",
    "        plt.show()\n",
    "        \n",
    "# Plot loss \n",
    "#plt.rcParams['figure.figsize'] = [6, 3];\n",
    "ax.plot(loss_log)\n",
    "plt.show()"
   ]
  }
 ],
 "metadata": {
  "kernelspec": {
   "display_name": "Python 3",
   "language": "python",
   "name": "python3"
  },
  "language_info": {
   "codemirror_mode": {
    "name": "ipython",
    "version": 3
   },
   "file_extension": ".py",
   "mimetype": "text/x-python",
   "name": "python",
   "nbconvert_exporter": "python",
   "pygments_lexer": "ipython3",
   "version": "3.8.2"
  }
 },
 "nbformat": 4,
 "nbformat_minor": 5
}
